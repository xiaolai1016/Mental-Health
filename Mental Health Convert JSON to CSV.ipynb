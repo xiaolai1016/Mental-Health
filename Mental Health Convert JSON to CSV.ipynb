{
 "cells": [
  {
   "cell_type": "code",
   "execution_count": 1,
   "id": "f197d7d7",
   "metadata": {},
   "outputs": [
    {
     "name": "stdout",
     "output_type": "stream",
     "text": [
      "Data successfully saved to /Users/xiaolai/synthea/output/combined_data.csv\n"
     ]
    }
   ],
   "source": [
    "import pandas as pd\n",
    "import os\n",
    "import json\n",
    "\n",
    "# Define the path to the directory containing JSON files\n",
    "json_dir = '/Users/xiaolai/synthea/output/fhir'\n",
    "\n",
    "# List to hold dataframes for each patient\n",
    "dfs = []\n",
    "\n",
    "# Iterate over all JSON files in the directory\n",
    "for file_name in os.listdir(json_dir):\n",
    "    if file_name.endswith('.json'):\n",
    "        file_path = os.path.join(json_dir, file_name)\n",
    "        \n",
    "        # Load JSON data\n",
    "        with open(file_path, 'r') as f:\n",
    "            data = json.load(f)\n",
    "        \n",
    "        # Convert JSON data to DataFrame\n",
    "        df = pd.json_normalize(data)\n",
    "        \n",
    "        # Append DataFrame to the list\n",
    "        dfs.append(df)\n",
    "\n",
    "# Concatenate all DataFrames into a single DataFrame\n",
    "combined_df = pd.concat(dfs, ignore_index=True)\n",
    "\n",
    "# Save the combined DataFrame to a CSV file\n",
    "csv_file = '/Users/xiaolai/synthea/output/combined_data.csv'\n",
    "combined_df.to_csv(csv_file, index=False)\n",
    "\n",
    "print(f\"Data successfully saved to {csv_file}\")"
   ]
  },
  {
   "cell_type": "code",
   "execution_count": null,
   "id": "08790f84",
   "metadata": {},
   "outputs": [],
   "source": []
  }
 ],
 "metadata": {
  "kernelspec": {
   "display_name": "Python 3 (ipykernel)",
   "language": "python",
   "name": "python3"
  },
  "language_info": {
   "codemirror_mode": {
    "name": "ipython",
    "version": 3
   },
   "file_extension": ".py",
   "mimetype": "text/x-python",
   "name": "python",
   "nbconvert_exporter": "python",
   "pygments_lexer": "ipython3",
   "version": "3.9.12"
  }
 },
 "nbformat": 4,
 "nbformat_minor": 5
}
